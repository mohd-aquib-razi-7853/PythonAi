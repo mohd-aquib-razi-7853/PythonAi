{
 "cells": [
  {
   "cell_type": "markdown",
   "metadata": {},
   "source": [
    "# Vector Operation Part 2"
   ]
  },
  {
   "cell_type": "code",
   "execution_count": 2,
   "metadata": {},
   "outputs": [],
   "source": [
    "import numpy as np"
   ]
  },
  {
   "cell_type": "markdown",
   "metadata": {},
   "source": [
    "### Dot Product of 2 Vector"
   ]
  },
  {
   "cell_type": "code",
   "execution_count": 3,
   "metadata": {},
   "outputs": [
    {
     "name": "stdout",
     "output_type": "stream",
     "text": [
      "20\n"
     ]
    }
   ],
   "source": [
    "a = np.array([2,3])\n",
    "\n",
    "b = np.array([4,4])\n",
    "a_dot_b = np.dot(a,b)\n",
    "print(a_dot_b)"
   ]
  },
  {
   "cell_type": "markdown",
   "metadata": {},
   "source": [
    "### Cross Product of 2 vector"
   ]
  },
  {
   "cell_type": "code",
   "execution_count": 4,
   "metadata": {},
   "outputs": [
    {
     "name": "stdout",
     "output_type": "stream",
     "text": [
      "-4\n"
     ]
    }
   ],
   "source": [
    "a = np.array([2,3])\n",
    "\n",
    "b = np.array([4,4])\n",
    "a_X_b = np.cross(a,b)\n",
    "print(a_X_b)"
   ]
  },
  {
   "cell_type": "code",
   "execution_count": 5,
   "metadata": {},
   "outputs": [
    {
     "name": "stdout",
     "output_type": "stream",
     "text": [
      "[ 6  6 -7]\n"
     ]
    }
   ],
   "source": [
    "a = np.array([2,5,6])\n",
    "b = np.array([3,4,6])\n",
    "aXb = np.cross(a,b)\n",
    "print(aXb)"
   ]
  },
  {
   "cell_type": "markdown",
   "metadata": {},
   "source": [
    "### Projection of 2 vector\n",
    "\n",
    "projection = (a.v/|v|^2)v\n",
    "\n",
    "|v| = sqrt(sum(v**2))"
   ]
  },
  {
   "cell_type": "code",
   "execution_count": 11,
   "metadata": {},
   "outputs": [
    {
     "name": "stdout",
     "output_type": "stream",
     "text": [
      "10.0\n",
      "-14\n",
      "[-1.12  0.84]\n"
     ]
    }
   ],
   "source": [
    "a = np.array([2,5])\n",
    "v = np.array([8,-6])\n",
    "# magnitute \n",
    "mag_v = np.sqrt(sum(v**2))\n",
    "print(mag_v)\n",
    "# dot product\n",
    "adotv = np.dot(a,v)\n",
    "print(adotv)\n",
    "projection = (adotv/(mag_v**2))*v\n",
    "print(projection)\n",
    "\n"
   ]
  },
  {
   "cell_type": "code",
   "execution_count": 15,
   "metadata": {},
   "outputs": [
    {
     "name": "stdout",
     "output_type": "stream",
     "text": [
      "115.05650785592269\n",
      "8879\n",
      "[30.18242937 54.99909352 44.93828373]\n"
     ]
    }
   ],
   "source": [
    "a = np.array([23,45,62])\n",
    "v = np.array([45,82,67])\n",
    "# magnitute \n",
    "mag_v = np.sqrt(sum(v**2))\n",
    "print(mag_v)\n",
    "# dot product\n",
    "adotv = np.dot(a,v)\n",
    "print(adotv)\n",
    "projection = (adotv/(mag_v**2))*v\n",
    "print(projection)\n",
    "\n"
   ]
  },
  {
   "cell_type": "code",
   "execution_count": null,
   "metadata": {},
   "outputs": [],
   "source": []
  }
 ],
 "metadata": {
  "kernelspec": {
   "display_name": "Python 3",
   "language": "python",
   "name": "python3"
  },
  "language_info": {
   "codemirror_mode": {
    "name": "ipython",
    "version": 3
   },
   "file_extension": ".py",
   "mimetype": "text/x-python",
   "name": "python",
   "nbconvert_exporter": "python",
   "pygments_lexer": "ipython3",
   "version": "3.10.12"
  }
 },
 "nbformat": 4,
 "nbformat_minor": 2
}
